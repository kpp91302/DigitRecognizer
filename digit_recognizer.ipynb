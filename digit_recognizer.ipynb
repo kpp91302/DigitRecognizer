{
 "cells": [
  {
   "cell_type": "markdown",
   "metadata": {},
   "source": [
    "# Digit Recognizer Kaggle Competition"
   ]
  },
  {
   "cell_type": "markdown",
   "metadata": {},
   "source": [
    "### Trained on MNIST Dataset"
   ]
  },
  {
   "cell_type": "code",
   "execution_count": 1,
   "metadata": {},
   "outputs": [
    {
     "name": "stderr",
     "output_type": "stream",
     "text": [
      "2024-02-15 14:22:29.229036: I tensorflow/core/util/port.cc:113] oneDNN custom operations are on. You may see slightly different numerical results due to floating-point round-off errors from different computation orders. To turn them off, set the environment variable `TF_ENABLE_ONEDNN_OPTS=0`.\n",
      "2024-02-15 14:22:29.281141: E external/local_xla/xla/stream_executor/cuda/cuda_dnn.cc:9261] Unable to register cuDNN factory: Attempting to register factory for plugin cuDNN when one has already been registered\n",
      "2024-02-15 14:22:29.281182: E external/local_xla/xla/stream_executor/cuda/cuda_fft.cc:607] Unable to register cuFFT factory: Attempting to register factory for plugin cuFFT when one has already been registered\n",
      "2024-02-15 14:22:29.282751: E external/local_xla/xla/stream_executor/cuda/cuda_blas.cc:1515] Unable to register cuBLAS factory: Attempting to register factory for plugin cuBLAS when one has already been registered\n",
      "2024-02-15 14:22:29.292276: I tensorflow/core/platform/cpu_feature_guard.cc:182] This TensorFlow binary is optimized to use available CPU instructions in performance-critical operations.\n",
      "To enable the following instructions: AVX2 AVX512F AVX512_VNNI FMA, in other operations, rebuild TensorFlow with the appropriate compiler flags.\n",
      "2024-02-15 14:22:34.367691: W tensorflow/compiler/tf2tensorrt/utils/py_utils.cc:38] TF-TRT Warning: Could not find TensorRT\n"
     ]
    }
   ],
   "source": [
    "# import necessary libraries\n",
    "import numpy as np\n",
    "import pandas as pd\n",
    "import tensorflow as tf\n",
    "import matplotlib.pyplot as plt\n",
    "%matplotlib inline\n",
    "import seaborn as sns"
   ]
  },
  {
   "cell_type": "markdown",
   "metadata": {},
   "source": [
    "### Case 1 - Train and test on entire set"
   ]
  },
  {
   "cell_type": "code",
   "execution_count": 2,
   "metadata": {},
   "outputs": [],
   "source": [
    "# load the data\n",
    "train1 = pd.read_csv('train.csv')\n",
    "test1 = pd.read_csv('test.csv')"
   ]
  },
  {
   "cell_type": "code",
   "execution_count": 3,
   "metadata": {},
   "outputs": [
    {
     "data": {
      "text/plain": [
       "((42000, 784), (42000,), (28000, 784))"
      ]
     },
     "execution_count": 3,
     "metadata": {},
     "output_type": "execute_result"
    }
   ],
   "source": [
    "# Train Data\n",
    "y_train = train1['label'].astype('float32')\n",
    "X_train = train1.drop('label', axis=1).astype('int32')\n",
    "X_test = test1.astype('int32')\n",
    "X_train.shape, y_train.shape, X_test.shape"
   ]
  },
  {
   "cell_type": "code",
   "execution_count": 4,
   "metadata": {},
   "outputs": [
    {
     "data": {
      "text/plain": [
       "<Axes: xlabel='label', ylabel='count'>"
      ]
     },
     "execution_count": 4,
     "metadata": {},
     "output_type": "execute_result"
    },
    {
     "data": {
      "image/png": "[encoded data removed]",
      "text/plain": [
       "<Figure size 640x480 with 1 Axes>"
      ]
     },
     "metadata": {},
     "output_type": "display_data"
    }
   ],
   "source": [
    "sns.countplot(x='label', data = train1)"
   ]
  },
  {
   "cell_type": "code",
   "execution_count": 5,
   "metadata": {},
   "outputs": [],
   "source": [
    "#Data normalization\n",
    "X_train = X_train/255\n",
    "X_test = X_test/255"
   ]
  },
  {
   "cell_type": "code",
   "execution_count": 6,
   "metadata": {},
   "outputs": [
    {
     "data": {
      "text/plain": [
       "((42000, 28, 28, 1), (28000, 28, 28, 1))"
      ]
     },
     "execution_count": 6,
     "metadata": {},
     "output_type": "execute_result"
    }
   ],
   "source": [
    "X_train = X_train.values.reshape(-1,28,28,1)\n",
    "X_test = X_test.values.reshape(-1,28,28,1)\n",
    "X_train.shape, X_test.shape"
   ]
  },
  {
   "cell_type": "code",
   "execution_count": 7,
   "metadata": {},
   "outputs": [
    {
     "data": {
      "text/plain": [
       "(42000, 10)"
      ]
     },
     "execution_count": 7,
     "metadata": {},
     "output_type": "execute_result"
    }
   ],
   "source": [
    "# one-hot encoding\n",
    "from keras.utils import to_categorical\n",
    "y_train = to_categorical(y_train, num_classes = 10)\n",
    "y_train.shape"
   ]
  },
  {
   "cell_type": "code",
   "execution_count": 8,
   "metadata": {},
   "outputs": [
    {
     "name": "stdout",
     "output_type": "stream",
     "text": [
      "0    1\n",
      "1    0\n",
      "2    1\n",
      "3    4\n",
      "4    0\n",
      "Name: label, dtype: int64\n"
     ]
    },
    {
     "data": {
      "text/plain": [
       "array([[0., 1., 0., 0., 0., 0., 0., 0., 0., 0.],\n",
       "       [1., 0., 0., 0., 0., 0., 0., 0., 0., 0.],\n",
       "       [0., 1., 0., 0., 0., 0., 0., 0., 0., 0.],\n",
       "       [0., 0., 0., 0., 1., 0., 0., 0., 0., 0.],\n",
       "       [1., 0., 0., 0., 0., 0., 0., 0., 0., 0.]], dtype=float32)"
      ]
     },
     "execution_count": 8,
     "metadata": {},
     "output_type": "execute_result"
    }
   ],
   "source": [
    "print(train1['label'].head())\n",
    "y_train[0:5,:]"
   ]
  },
  {
   "cell_type": "code",
   "execution_count": 9,
   "metadata": {},
   "outputs": [],
   "source": [
    "from sklearn.model_selection import train_test_split\n",
    "X_train, X_cv, y_train, y_cv = train_test_split(X_train, y_train, test_size = 0.1, random_state=42)"
   ]
  },
  {
   "cell_type": "code",
   "execution_count": 10,
   "metadata": {},
   "outputs": [
    {
     "data": {
      "image/png": "[encoded data removed]",
      "text/plain": [
       "<Figure size 640x480 with 1 Axes>"
      ]
     },
     "metadata": {},
     "output_type": "display_data"
    }
   ],
   "source": [
    "plt.imshow(X_train[1][:,:,0])\n",
    "plt.title(y_train[1].argmax());"
   ]
  },
  {
   "cell_type": "code",
   "execution_count": 11,
   "metadata": {},
   "outputs": [],
   "source": [
    "from keras.layers import Input,InputLayer, Dense, Activation, ZeroPadding2D, BatchNormalization, Flatten, Conv2D\n",
    "from keras.layers import AveragePooling2D, MaxPooling2D, Dropout\n",
    "from keras.models import Sequential,Model\n",
    "from keras.optimizers import SGD\n",
    "from keras.callbacks import ModelCheckpoint,LearningRateScheduler\n",
    "import keras\n",
    "from keras import backend as K"
   ]
  },
  {
   "cell_type": "code",
   "execution_count": 12,
   "metadata": {},
   "outputs": [
    {
     "name": "stdout",
     "output_type": "stream",
     "text": [
      "Model: \"Predict\"\n",
      "_________________________________________________________________\n",
      " Layer (type)                Output Shape              Param #   \n",
      "=================================================================\n",
      " input_1 (InputLayer)        [(None, 28, 28, 1)]       0         \n",
      "                                                                 \n",
      " layer_conv1 (Conv2D)        (None, 28, 28, 64)        640       \n",
      "                                                                 \n",
      " batch_normalization (Batch  (None, 28, 28, 64)        256       \n",
      " Normalization)                                                  \n",
      "                                                                 \n",
      " activation (Activation)     (None, 28, 28, 64)        0         \n",
      "                                                                 \n",
      " maxPool1 (MaxPooling2D)     (None, 14, 14, 64)        0         \n",
      "                                                                 \n",
      " layer_conv2 (Conv2D)        (None, 14, 14, 32)        18464     \n",
      "                                                                 \n",
      " batch_normalization_1 (Bat  (None, 14, 14, 32)        128       \n",
      " chNormalization)                                                \n",
      "                                                                 \n",
      " activation_1 (Activation)   (None, 14, 14, 32)        0         \n",
      "                                                                 \n",
      " maxPool2 (MaxPooling2D)     (None, 7, 7, 32)          0         \n",
      "                                                                 \n",
      " conv3 (Conv2D)              (None, 7, 7, 32)          9248      \n",
      "                                                                 \n",
      " batch_normalization_2 (Bat  (None, 7, 7, 32)          128       \n",
      " chNormalization)                                                \n",
      "                                                                 \n",
      " activation_2 (Activation)   (None, 7, 7, 32)          0         \n",
      "                                                                 \n",
      " maxPool3 (MaxPooling2D)     (None, 3, 3, 32)          0         \n",
      "                                                                 \n",
      " flatten (Flatten)           (None, 288)               0         \n",
      "                                                                 \n",
      " fc0 (Dense)                 (None, 64)                18496     \n",
      "                                                                 \n",
      " dropout (Dropout)           (None, 64)                0         \n",
      "                                                                 \n",
      " fc1 (Dense)                 (None, 32)                2080      \n",
      "                                                                 \n",
      " dropout_1 (Dropout)         (None, 32)                0         \n",
      "                                                                 \n",
      " fc2 (Dense)                 (None, 10)                330       \n",
      "                                                                 \n",
      "=================================================================\n",
      "Total params: 49770 (194.41 KB)\n",
      "Trainable params: 49514 (193.41 KB)\n",
      "Non-trainable params: 256 (1.00 KB)\n",
      "_________________________________________________________________\n"
     ]
    }
   ],
   "source": [
    "# Building a CNN model\n",
    "input_shape = (28,28,1)\n",
    "X_input = Input(input_shape)\n",
    "\n",
    "# layer 1\n",
    "x = Conv2D(64,(3,3),strides=(1,1),name='layer_conv1',padding='same')(X_input)\n",
    "x = BatchNormalization()(x)\n",
    "x = Activation('relu')(x)\n",
    "x = MaxPooling2D((2,2),name='maxPool1')(x)\n",
    "# layer 2\n",
    "x = Conv2D(32,(3,3),strides=(1,1),name='layer_conv2',padding='same')(x)\n",
    "x = BatchNormalization()(x)\n",
    "x = Activation('relu')(x)\n",
    "x = MaxPooling2D((2,2),name='maxPool2')(x)\n",
    "# layer 3\n",
    "x = Conv2D(32,(3,3),strides=(1,1),name='conv3',padding='same')(x)\n",
    "x = BatchNormalization()(x)\n",
    "x = Activation('relu')(x)\n",
    "x = MaxPooling2D((2,2), name='maxPool3')(x)\n",
    "# fc\n",
    "x = Flatten()(x)\n",
    "x = Dense(64,activation ='relu',name='fc0')(x)\n",
    "x = Dropout(0.25)(x)\n",
    "x = Dense(32,activation ='relu',name='fc1')(x)\n",
    "x = Dropout(0.25)(x)\n",
    "x = Dense(10,activation ='softmax',name='fc2')(x)\n",
    "\n",
    "conv_model = Model(inputs=X_input, outputs=x, name='Predict')\n",
    "conv_model.summary()\n"
   ]
  },
  {
   "cell_type": "code",
   "execution_count": 13,
   "metadata": {},
   "outputs": [
    {
     "name": "stdout",
     "output_type": "stream",
     "text": [
      "Epoch 1/10\n",
      "378/378 [==============================] - 8s 16ms/step - loss: 0.5794 - accuracy: 0.8144 - val_loss: 1.3297 - val_accuracy: 0.5229\n",
      "Epoch 2/10\n",
      "378/378 [==============================] - 6s 16ms/step - loss: 0.1322 - accuracy: 0.9632 - val_loss: 0.0625 - val_accuracy: 0.9831\n",
      "Epoch 3/10\n",
      "378/378 [==============================] - 6s 15ms/step - loss: 0.0945 - accuracy: 0.9736 - val_loss: 0.0551 - val_accuracy: 0.9821\n",
      "Epoch 4/10\n",
      "378/378 [==============================] - 6s 15ms/step - loss: 0.0754 - accuracy: 0.9797 - val_loss: 0.0532 - val_accuracy: 0.9836\n",
      "Epoch 5/10\n",
      "378/378 [==============================] - 6s 15ms/step - loss: 0.0627 - accuracy: 0.9822 - val_loss: 0.0755 - val_accuracy: 0.9783\n",
      "Epoch 6/10\n",
      "378/378 [==============================] - 6s 15ms/step - loss: 0.0547 - accuracy: 0.9847 - val_loss: 0.0419 - val_accuracy: 0.9883\n",
      "Epoch 7/10\n",
      "378/378 [==============================] - 6s 16ms/step - loss: 0.0516 - accuracy: 0.9853 - val_loss: 0.0556 - val_accuracy: 0.9869\n",
      "Epoch 8/10\n",
      "378/378 [==============================] - 6s 16ms/step - loss: 0.0445 - accuracy: 0.9873 - val_loss: 0.0532 - val_accuracy: 0.9867\n",
      "Epoch 9/10\n",
      "378/378 [==============================] - 6s 16ms/step - loss: 0.0399 - accuracy: 0.9889 - val_loss: 0.0559 - val_accuracy: 0.9848\n",
      "Epoch 10/10\n",
      "378/378 [==============================] - 6s 16ms/step - loss: 0.0370 - accuracy: 0.9894 - val_loss: 0.0516 - val_accuracy: 0.9871\n"
     ]
    },
    {
     "data": {
      "text/plain": [
       "<keras.src.callbacks.History at 0x7f01f8c42d60>"
      ]
     },
     "execution_count": 13,
     "metadata": {},
     "output_type": "execute_result"
    }
   ],
   "source": [
    "# Adam optimizer\n",
    "conv_model.compile(optimizer='adam',loss='categorical_crossentropy',metrics=['accuracy'])\n",
    "conv_model.fit(X_train, y_train, epochs=10, batch_size=100, validation_data=(X_cv,y_cv))"
   ]
  },
  {
   "cell_type": "code",
   "execution_count": 14,
   "metadata": {},
   "outputs": [
    {
     "name": "stdout",
     "output_type": "stream",
     "text": [
      "Epoch 1/30\n",
      "1182/1182 [==============================] - 13s 10ms/step - loss: 0.0289 - accuracy: 0.9923 - val_loss: 0.0370 - val_accuracy: 0.9900 - lr: 5.0000e-04\n",
      "Epoch 2/30\n",
      "1182/1182 [==============================] - 12s 10ms/step - loss: 0.0252 - accuracy: 0.9931 - val_loss: 0.0358 - val_accuracy: 0.9907 - lr: 5.0000e-04\n",
      "Epoch 3/30\n",
      "1182/1182 [==============================] - 11s 10ms/step - loss: 0.0229 - accuracy: 0.9937 - val_loss: 0.0361 - val_accuracy: 0.9914 - lr: 5.0000e-04\n",
      "Epoch 4/30\n",
      "1182/1182 [==============================] - 11s 10ms/step - loss: 0.0212 - accuracy: 0.9945 - val_loss: 0.0352 - val_accuracy: 0.9914 - lr: 5.0000e-04\n",
      "Epoch 5/30\n",
      "1182/1182 [==============================] - 12s 10ms/step - loss: 0.0214 - accuracy: 0.9937 - val_loss: 0.0350 - val_accuracy: 0.9907 - lr: 5.0000e-04\n",
      "Epoch 6/30\n",
      "1182/1182 [==============================] - 12s 10ms/step - loss: 0.0208 - accuracy: 0.9944 - val_loss: 0.0348 - val_accuracy: 0.9910 - lr: 5.0000e-04\n",
      "Epoch 7/30\n",
      "1182/1182 [==============================] - 12s 10ms/step - loss: 0.0192 - accuracy: 0.9954 - val_loss: 0.0345 - val_accuracy: 0.9910 - lr: 5.0000e-04\n",
      "Epoch 8/30\n",
      "1182/1182 [==============================] - 12s 10ms/step - loss: 0.0196 - accuracy: 0.9951 - val_loss: 0.0346 - val_accuracy: 0.9907 - lr: 5.0000e-04\n",
      "Epoch 9/30\n",
      "1182/1182 [==============================] - 12s 10ms/step - loss: 0.0194 - accuracy: 0.9947 - val_loss: 0.0343 - val_accuracy: 0.9898 - lr: 5.0000e-04\n",
      "Epoch 10/30\n",
      "1182/1182 [==============================] - 11s 10ms/step - loss: 0.0191 - accuracy: 0.9945 - val_loss: 0.0344 - val_accuracy: 0.9905 - lr: 5.0000e-04\n",
      "Epoch 11/30\n",
      "1182/1182 [==============================] - 11s 10ms/step - loss: 0.0190 - accuracy: 0.9945 - val_loss: 0.0344 - val_accuracy: 0.9910 - lr: 5.0000e-05\n",
      "Epoch 12/30\n",
      "1182/1182 [==============================] - 12s 10ms/step - loss: 0.0172 - accuracy: 0.9950 - val_loss: 0.0345 - val_accuracy: 0.9910 - lr: 5.0000e-05\n",
      "Epoch 13/30\n",
      "1182/1182 [==============================] - 12s 10ms/step - loss: 0.0180 - accuracy: 0.9957 - val_loss: 0.0344 - val_accuracy: 0.9907 - lr: 5.0000e-05\n",
      "Epoch 14/30\n",
      "1182/1182 [==============================] - 11s 10ms/step - loss: 0.0172 - accuracy: 0.9953 - val_loss: 0.0345 - val_accuracy: 0.9910 - lr: 5.0000e-05\n",
      "Epoch 15/30\n",
      "1182/1182 [==============================] - 11s 10ms/step - loss: 0.0198 - accuracy: 0.9945 - val_loss: 0.0344 - val_accuracy: 0.9905 - lr: 5.0000e-05\n",
      "Epoch 16/30\n",
      "1182/1182 [==============================] - 11s 10ms/step - loss: 0.0185 - accuracy: 0.9943 - val_loss: 0.0343 - val_accuracy: 0.9905 - lr: 5.0000e-05\n",
      "Epoch 17/30\n",
      "1182/1182 [==============================] - 11s 9ms/step - loss: 0.0190 - accuracy: 0.9948 - val_loss: 0.0343 - val_accuracy: 0.9905 - lr: 5.0000e-05\n",
      "Epoch 18/30\n",
      "1182/1182 [==============================] - 11s 9ms/step - loss: 0.0176 - accuracy: 0.9954 - val_loss: 0.0344 - val_accuracy: 0.9905 - lr: 5.0000e-05\n",
      "Epoch 19/30\n",
      "1182/1182 [==============================] - 11s 10ms/step - loss: 0.0183 - accuracy: 0.9948 - val_loss: 0.0343 - val_accuracy: 0.9905 - lr: 5.0000e-05\n",
      "Epoch 20/30\n",
      "1182/1182 [==============================] - 11s 10ms/step - loss: 0.0177 - accuracy: 0.9953 - val_loss: 0.0342 - val_accuracy: 0.9907 - lr: 5.0000e-05\n",
      "Epoch 21/30\n",
      "1182/1182 [==============================] - 11s 10ms/step - loss: 0.0187 - accuracy: 0.9950 - val_loss: 0.0343 - val_accuracy: 0.9907 - lr: 5.0000e-05\n",
      "Epoch 22/30\n",
      "1182/1182 [==============================] - 11s 10ms/step - loss: 0.0185 - accuracy: 0.9950 - val_loss: 0.0343 - val_accuracy: 0.9907 - lr: 5.0000e-05\n",
      "Epoch 23/30\n",
      "1182/1182 [==============================] - 11s 9ms/step - loss: 0.0185 - accuracy: 0.9951 - val_loss: 0.0344 - val_accuracy: 0.9910 - lr: 5.0000e-05\n",
      "Epoch 24/30\n",
      "1182/1182 [==============================] - 12s 10ms/step - loss: 0.0173 - accuracy: 0.9950 - val_loss: 0.0344 - val_accuracy: 0.9910 - lr: 5.0000e-05\n",
      "Epoch 25/30\n",
      "1182/1182 [==============================] - 11s 10ms/step - loss: 0.0186 - accuracy: 0.9948 - val_loss: 0.0344 - val_accuracy: 0.9902 - lr: 5.0000e-05\n",
      "Epoch 26/30\n",
      "1182/1182 [==============================] - 11s 10ms/step - loss: 0.0161 - accuracy: 0.9955 - val_loss: 0.0346 - val_accuracy: 0.9905 - lr: 5.0000e-05\n",
      "Epoch 27/30\n",
      "1182/1182 [==============================] - 11s 10ms/step - loss: 0.0178 - accuracy: 0.9955 - val_loss: 0.0343 - val_accuracy: 0.9900 - lr: 5.0000e-05\n",
      "Epoch 28/30\n",
      "1182/1182 [==============================] - 11s 10ms/step - loss: 0.0175 - accuracy: 0.9955 - val_loss: 0.0344 - val_accuracy: 0.9902 - lr: 5.0000e-05\n",
      "Epoch 29/30\n",
      "1182/1182 [==============================] - 11s 10ms/step - loss: 0.0162 - accuracy: 0.9955 - val_loss: 0.0345 - val_accuracy: 0.9907 - lr: 5.0000e-05\n",
      "Epoch 30/30\n",
      "1182/1182 [==============================] - 11s 9ms/step - loss: 0.0188 - accuracy: 0.9952 - val_loss: 0.0344 - val_accuracy: 0.9907 - lr: 5.0000e-05\n"
     ]
    },
    {
     "data": {
      "text/plain": [
       "<keras.src.callbacks.History at 0x7f02dc281d90>"
      ]
     },
     "execution_count": 14,
     "metadata": {},
     "output_type": "execute_result"
    }
   ],
   "source": [
    "from keras.optimizers import SGD\n",
    "from keras.callbacks import LearningRateScheduler\n",
    "\n",
    "def learning_rate_schedule(epoch):\n",
    "    initial_lr = 0.0005\n",
    "    decay = 0.0\n",
    "    if epoch < 10:\n",
    "        return initial_lr\n",
    "    else:\n",
    "        return initial_lr * 0.1  # You can adjust the decay rate as needed\n",
    "\n",
    "# SGD optimizer with momentum\n",
    "sgd = SGD(learning_rate=0.0005, momentum=0.5, nesterov=False) \n",
    "\n",
    "# Compile model with SGD optimizer and categorical crossentropy loss\n",
    "conv_model.compile(optimizer=sgd, loss='categorical_crossentropy', metrics=['accuracy'])\n",
    "\n",
    "# Learning rate schedule callback\n",
    "lr_schedule = LearningRateScheduler(learning_rate_schedule)\n",
    "\n",
    "# Train the model with learning rate schedule\n",
    "conv_model.fit(X_train, y_train, epochs=30, validation_data=(X_cv, y_cv), callbacks=[lr_schedule])\n"
   ]
  },
  {
   "cell_type": "code",
   "execution_count": 15,
   "metadata": {},
   "outputs": [
    {
     "name": "stdout",
     "output_type": "stream",
     "text": [
      "875/875 [==============================] - 3s 4ms/step\n"
     ]
    }
   ],
   "source": [
    "y_pred = conv_model.predict(X_test)\n",
    "y_pred = np.argmax(y_pred,axis=1)\n",
    "my_submission = pd.DataFrame({'ImageId': list(range(1, len(y_pred)+1)), 'Label': y_pred})\n",
    "my_submission.to_csv('submission.csv', index=False)"
   ]
  },
  {
   "cell_type": "markdown",
   "metadata": {},
   "source": [
    "### Case 2 - Train on half of training set and test on the other half of training set"
   ]
  },
  {
   "cell_type": "code",
   "execution_count": 16,
   "metadata": {},
   "outputs": [],
   "source": [
    "# Load Data\n",
    "train2 = pd.read_csv('train_halfImages.csv')\n",
    "test2 = pd.read_csv('test_halfImages.csv')"
   ]
  },
  {
   "cell_type": "code",
   "execution_count": 17,
   "metadata": {},
   "outputs": [],
   "source": [
    "# Train Data\n",
    "y_train = train1['label'].astype('float32')\n",
    "X_train = train1.drop('label', axis=1).astype('int32')\n",
    "X_test = test1.astype('int32')\n",
    "X_train.shape, y_train.shape, X_test.shape"
   ]
  },
  {
   "cell_type": "code",
   "execution_count": null,
   "metadata": {},
   "outputs": [],
   "source": [
    "sns.countplot(x='label', data = train1)"
   ]
  },
  {
   "cell_type": "code",
   "execution_count": 18,
   "metadata": {},
   "outputs": [],
   "source": [
    "#Data normalization\n",
    "X_train = X_train/255\n",
    "X_test = X_test/255"
   ]
  },
  {
   "cell_type": "code",
   "execution_count": null,
   "metadata": {},
   "outputs": [],
   "source": [
    "X_train = X_train.values.reshape(-1,28,28,1)\n",
    "X_test = X_test.values.reshape(-1,28,28,1)\n",
    "X_train.shape, X_test.shape"
   ]
  },
  {
   "cell_type": "code",
   "execution_count": null,
   "metadata": {},
   "outputs": [],
   "source": [
    "# one-hot encoding\n",
    "from keras.utils import to_categorical\n",
    "y_train = to_categorical(y_train, num_classes = 10)\n",
    "y_train.shape"
   ]
  },
  {
   "cell_type": "code",
   "execution_count": null,
   "metadata": {},
   "outputs": [],
   "source": [
    "print(train1['label'].head())\n",
    "y_train[0:5,:]"
   ]
  },
  {
   "cell_type": "code",
   "execution_count": null,
   "metadata": {},
   "outputs": [],
   "source": [
    "from sklearn.model_selection import train_test_split\n",
    "X_train, X_cv, y_train, y_cv = train_test_split(X_train, y_train, test_size = 0.1, random_state=42)"
   ]
  },
  {
   "cell_type": "code",
   "execution_count": null,
   "metadata": {},
   "outputs": [],
   "source": [
    "plt.imshow(X_train[1][:,:,0])\n",
    "plt.title(y_train[1].argmax());"
   ]
  },
  {
   "cell_type": "code",
   "execution_count": null,
   "metadata": {},
   "outputs": [],
   "source": [
    "# Building a CNN model\n",
    "input_shape = (28,28,1)\n",
    "X_input = Input(input_shape)\n",
    "\n",
    "# layer 1\n",
    "x = Conv2D(64,(3,3),strides=(1,1),name='layer_conv1',padding='same')(X_input)\n",
    "x = BatchNormalization()(x)\n",
    "x = Activation('relu')(x)\n",
    "x = MaxPooling2D((2,2),name='maxPool1')(x)\n",
    "# layer 2\n",
    "x = Conv2D(32,(3,3),strides=(1,1),name='layer_conv2',padding='same')(x)\n",
    "x = BatchNormalization()(x)\n",
    "x = Activation('relu')(x)\n",
    "x = MaxPooling2D((2,2),name='maxPool2')(x)\n",
    "# layer 3\n",
    "x = Conv2D(32,(3,3),strides=(1,1),name='conv3',padding='same')(x)\n",
    "x = BatchNormalization()(x)\n",
    "x = Activation('relu')(x)\n",
    "x = MaxPooling2D((2,2), name='maxPool3')(x)\n",
    "# fc\n",
    "x = Flatten()(x)\n",
    "x = Dense(64,activation ='relu',name='fc0')(x)\n",
    "x = Dropout(0.25)(x)\n",
    "x = Dense(32,activation ='relu',name='fc1')(x)\n",
    "x = Dropout(0.25)(x)\n",
    "x = Dense(10,activation ='softmax',name='fc2')(x)\n",
    "\n",
    "conv_model = Model(inputs=X_input, outputs=x, name='Predict')\n",
    "conv_model.summary()\n"
   ]
  },
  {
   "cell_type": "code",
   "execution_count": null,
   "metadata": {},
   "outputs": [],
   "source": [
    "# Adam optimizer\n",
    "conv_model.compile(optimizer='adam',loss='categorical_crossentropy',metrics=['accuracy'])\n",
    "conv_model.fit(X_train, y_train, epochs=10, batch_size=100, validation_data=(X_cv,y_cv))"
   ]
  },
  {
   "cell_type": "code",
   "execution_count": null,
   "metadata": {},
   "outputs": [],
   "source": [
    "from keras.optimizers import SGD\n",
    "from keras.callbacks import LearningRateScheduler\n",
    "\n",
    "def learning_rate_schedule(epoch):\n",
    "    initial_lr = 0.0005\n",
    "    decay = 0.0\n",
    "    if epoch < 10:\n",
    "        return initial_lr\n",
    "    else:\n",
    "        return initial_lr * 0.1  # You can adjust the decay rate as needed\n",
    "\n",
    "# SGD optimizer with momentum\n",
    "sgd = SGD(learning_rate=0.0005, momentum=0.5, nesterov=False) \n",
    "\n",
    "# Compile model with SGD optimizer and categorical crossentropy loss\n",
    "conv_model.compile(optimizer=sgd, loss='categorical_crossentropy', metrics=['accuracy'])\n",
    "\n",
    "# Learning rate schedule callback\n",
    "lr_schedule = LearningRateScheduler(learning_rate_schedule)\n",
    "\n",
    "# Train the model with learning rate schedule\n",
    "conv_model.fit(X_train, y_train, epochs=30, validation_data=(X_cv, y_cv), callbacks=[lr_schedule])\n"
   ]
  },
  {
   "cell_type": "code",
   "execution_count": null,
   "metadata": {},
   "outputs": [],
   "source": [
    "y_pred = conv_model.predict(X_test)\n",
    "y_pred = np.argmax(y_pred,axis=1)\n",
    "my_submission = pd.DataFrame({'ImageId': list(range(1, len(y_pred)+1)), 'Label': y_pred})\n",
    "my_submission.to_csv('submission2.csv', index=False)"
   ]
  },
  {
   "cell_type": "markdown",
   "metadata": {},
   "source": [
    "### Case 3 - Train on lables 0-4 and test on other half of labels"
   ]
  },
  {
   "cell_type": "code",
   "execution_count": 19,
   "metadata": {},
   "outputs": [],
   "source": [
    "# Load Data\n",
    "train3 = pd.read_csv('train_halfDigits.csv')\n",
    "test3 = pd.read_csv('test_halfDigits.csv')"
   ]
  },
  {
   "cell_type": "code",
   "execution_count": 20,
   "metadata": {},
   "outputs": [],
   "source": [
    "# Train Data\n",
    "y_train = train1['label'].astype('float32')\n",
    "X_train = train1.drop('label', axis=1).astype('int32')\n",
    "X_test = test1.astype('int32')\n",
    "X_train.shape, y_train.shape, X_test.shape"
   ]
  },
  {
   "cell_type": "code",
   "execution_count": 21,
   "metadata": {},
   "outputs": [],
   "source": [
    "sns.countplot(x='label', data = train1)"
   ]
  },
  {
   "cell_type": "code",
   "execution_count": null,
   "metadata": {},
   "outputs": [],
   "source": [
    "#Data normalization\n",
    "X_train = X_train/255\n",
    "X_test = X_test/255"
   ]
  },
  {
   "cell_type": "code",
   "execution_count": null,
   "metadata": {},
   "outputs": [],
   "source": [
    "X_train = X_train.values.reshape(-1,28,28,1)\n",
    "X_test = X_test.values.reshape(-1,28,28,1)\n",
    "X_train.shape, X_test.shape"
   ]
  },
  {
   "cell_type": "code",
   "execution_count": null,
   "metadata": {},
   "outputs": [],
   "source": [
    "# one-hot encoding\n",
    "from keras.utils import to_categorical\n",
    "y_train = to_categorical(y_train, num_classes = 10)\n",
    "y_train.shape"
   ]
  },
  {
   "cell_type": "code",
   "execution_count": null,
   "metadata": {},
   "outputs": [],
   "source": [
    "print(train1['label'].head())\n",
    "y_train[0:5,:]"
   ]
  },
  {
   "cell_type": "code",
   "execution_count": null,
   "metadata": {},
   "outputs": [],
   "source": [
    "from sklearn.model_selection import train_test_split\n",
    "X_train, X_cv, y_train, y_cv = train_test_split(X_train, y_train, test_size = 0.1, random_state=42)"
   ]
  },
  {
   "cell_type": "code",
   "execution_count": null,
   "metadata": {},
   "outputs": [],
   "source": [
    "plt.imshow(X_train[1][:,:,0])\n",
    "plt.title(y_train[1].argmax());"
   ]
  },
  {
   "cell_type": "code",
   "execution_count": null,
   "metadata": {},
   "outputs": [],
   "source": [
    "# Building a CNN model\n",
    "input_shape = (28,28,1)\n",
    "X_input = Input(input_shape)\n",
    "\n",
    "# layer 1\n",
    "x = Conv2D(64,(3,3),strides=(1,1),name='layer_conv1',padding='same')(X_input)\n",
    "x = BatchNormalization()(x)\n",
    "x = Activation('relu')(x)\n",
    "x = MaxPooling2D((2,2),name='maxPool1')(x)\n",
    "# layer 2\n",
    "x = Conv2D(32,(3,3),strides=(1,1),name='layer_conv2',padding='same')(x)\n",
    "x = BatchNormalization()(x)\n",
    "x = Activation('relu')(x)\n",
    "x = MaxPooling2D((2,2),name='maxPool2')(x)\n",
    "# layer 3\n",
    "x = Conv2D(32,(3,3),strides=(1,1),name='conv3',padding='same')(x)\n",
    "x = BatchNormalization()(x)\n",
    "x = Activation('relu')(x)\n",
    "x = MaxPooling2D((2,2), name='maxPool3')(x)\n",
    "# fc\n",
    "x = Flatten()(x)\n",
    "x = Dense(64,activation ='relu',name='fc0')(x)\n",
    "x = Dropout(0.25)(x)\n",
    "x = Dense(32,activation ='relu',name='fc1')(x)\n",
    "x = Dropout(0.25)(x)\n",
    "x = Dense(10,activation ='softmax',name='fc2')(x)\n",
    "\n",
    "conv_model = Model(inputs=X_input, outputs=x, name='Predict')\n",
    "conv_model.summary()\n"
   ]
  },
  {
   "cell_type": "code",
   "execution_count": null,
   "metadata": {},
   "outputs": [],
   "source": [
    "# Adam optimizer\n",
    "conv_model.compile(optimizer='adam',loss='categorical_crossentropy',metrics=['accuracy'])\n",
    "conv_model.fit(X_train, y_train, epochs=10, batch_size=100, validation_data=(X_cv,y_cv))"
   ]
  },
  {
   "cell_type": "code",
   "execution_count": null,
   "metadata": {},
   "outputs": [],
   "source": [
    "from keras.optimizers import SGD\n",
    "from keras.callbacks import LearningRateScheduler\n",
    "\n",
    "def learning_rate_schedule(epoch):\n",
    "    initial_lr = 0.0005\n",
    "    decay = 0.0\n",
    "    if epoch < 10:\n",
    "        return initial_lr\n",
    "    else:\n",
    "        return initial_lr * 0.1  # You can adjust the decay rate as needed\n",
    "\n",
    "# SGD optimizer with momentum\n",
    "sgd = SGD(learning_rate=0.0005, momentum=0.5, nesterov=False) \n",
    "\n",
    "# Compile model with SGD optimizer and categorical crossentropy loss\n",
    "conv_model.compile(optimizer=sgd, loss='categorical_crossentropy', metrics=['accuracy'])\n",
    "\n",
    "# Learning rate schedule callback\n",
    "lr_schedule = LearningRateScheduler(learning_rate_schedule)\n",
    "\n",
    "# Train the model with learning rate schedule\n",
    "conv_model.fit(X_train, y_train, epochs=30, validation_data=(X_cv, y_cv), callbacks=[lr_schedule])\n"
   ]
  },
  {
   "cell_type": "code",
   "execution_count": null,
   "metadata": {},
   "outputs": [],
   "source": [
    "y_pred = conv_model.predict(X_test)\n",
    "y_pred = np.argmax(y_pred,axis=1)\n",
    "my_submission = pd.DataFrame({'ImageId': list(range(1, len(y_pred)+1)), 'Label': y_pred})\n",
    "my_submission.to_csv('submission3.csv', index=False)"
   ]
  }
 ],
 "metadata": {
  "kernelspec": {
   "display_name": "Python 3",
   "language": "python",
   "name": "python3"
  },
  "language_info": {
   "codemirror_mode": {
    "name": "ipython",
    "version": 3
   },
   "file_extension": ".py",
   "mimetype": "text/x-python",
   "name": "python",
   "nbconvert_exporter": "python",
   "pygments_lexer": "ipython3",
   "version": "3.9.18"
  }
 },
 "nbformat": 4,
 "nbformat_minor": 2
}
